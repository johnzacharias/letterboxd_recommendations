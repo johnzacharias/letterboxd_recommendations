{
 "cells": [
  {
   "cell_type": "code",
   "execution_count": 2,
   "metadata": {},
   "outputs": [
    {
     "name": "stderr",
     "output_type": "stream",
     "text": [
      "/var/folders/42/g3jdc6fj7rzf016wr3jszvmc0000gn/T/ipykernel_24800/617320963.py:4: DtypeWarning: Columns (16,18,19,23) have mixed types. Specify dtype option on import or set low_memory=False.\n",
      "  data = pd.read_csv('../data/modified_dataset.csv')\n"
     ]
    }
   ],
   "source": [
    "import pandas as pd\n",
    "\n",
    "\n",
    "data = pd.read_csv('../data/modified_dataset.csv')\n",
    "\n"
   ]
  },
  {
   "cell_type": "code",
   "execution_count": null,
   "metadata": {},
   "outputs": [
    {
     "name": "stdout",
     "output_type": "stream",
     "text": [
      "Index(['movie_id', 'rating_val', 'user_id', 'genres', 'image_url',\n",
      "       'movie_title', 'original_language', 'popularity',\n",
      "       'production_countries', 'release_date', 'runtime', 'spoken_languages',\n",
      "       'tmdb_id', 'vote_average', 'vote_count', 'year_released',\n",
      "       'belongs_to_collection', 'budget', 'original_title',\n",
      "       'overview_metadata', 'production_companies', 'revenue', 'status',\n",
      "       'title', 'keywords'],\n",
      "      dtype='object')\n"
     ]
    }
   ],
   "source": [
    "file_path = '../data/modified_dataset.csv'\n",
    "data_to_drop = ['genres_metadata', 'original_language_metadata', 'popularity_metadata', \n",
    "                'production_countries_metadata', 'release_date_metadata', 'runtime_metadata', \n",
    "                'spoken_languages_metadata', 'vote_average_metadata', 'vote_count_metadata']\n",
    "\n",
    "columns_to_drop = [col for col in data_to_drop if col in data.columns]\n",
    "\n",
    "\n",
    "data.drop(columns=columns_to_drop, inplace=True)\n",
    "data.to_csv(file_path, index=False)\n",
    "print(data.columns)\n",
    "\n",
    "\n"
   ]
  },
  {
   "cell_type": "code",
   "execution_count": 4,
   "metadata": {},
   "outputs": [],
   "source": [
    "# num_rows, num_columns = data.shape\n",
    "# print(f\"Number of rows: {num_rows}\")\n",
    "# print(f\"Number of columns: {num_columns}\")\n",
    "import pandas as pd\n",
    "data = pd.read_csv('../data/sample_dataset.csv')\n",
    "sampled_data = data.sample(n=300000, random_state=42)\n",
    "sampled_data.to_csv('../data/sample_dataset.csv', index=False)"
   ]
  },
  {
   "cell_type": "code",
   "execution_count": null,
   "metadata": {},
   "outputs": [
    {
     "name": "stderr",
     "output_type": "stream",
     "text": [
      "/var/folders/42/g3jdc6fj7rzf016wr3jszvmc0000gn/T/ipykernel_19918/4279277419.py:4: SettingWithCopyWarning: \n",
      "A value is trying to be set on a copy of a slice from a DataFrame.\n",
      "Try using .loc[row_indexer,col_indexer] = value instead\n",
      "\n",
      "See the caveats in the documentation: https://pandas.pydata.org/pandas-docs/stable/user_guide/indexing.html#returning-a-view-versus-a-copy\n",
      "  model_data['user_id'] = dummy_user_id\n"
     ]
    }
   ],
   "source": [
    "data = data.drop(columns=['user_id'])\n",
    "model_data =data.drop_duplicates(subset=['movie_id'])\n",
    "dummy_user_id = 'dummy_user'\n",
    "model_data['user_id'] = dummy_user_id\n",
    "\n",
    "\n",
    "# Save the resulting DataFrame to a new CSV file named model_data.csv\n",
    "model_data.to_csv('model_data.csv', index=False)"
   ]
  },
  {
   "cell_type": "code",
   "execution_count": null,
   "metadata": {},
   "outputs": [
    {
     "name": "stdout",
     "output_type": "stream",
     "text": [
      "Number of rows: 86358\n",
      "Number of columns: 24\n"
     ]
    }
   ],
   "source": [
    "num_rows, num_columns = model_data.shape\n",
    "print(f\"Number of rows: {num_rows}\")\n",
    "print(f\"Number of columns: {num_columns}\")"
   ]
  },
  {
   "cell_type": "code",
   "execution_count": 12,
   "metadata": {},
   "outputs": [],
   "source": [
    "\n",
    "model_data = model_data[model_data['title'] != 'Delusion']\n",
    "model_data.to_csv('model_data.csv', index=False)\n",
    "\n"
   ]
  }
 ],
 "metadata": {
  "kernelspec": {
   "display_name": "base",
   "language": "python",
   "name": "python3"
  },
  "language_info": {
   "codemirror_mode": {
    "name": "ipython",
    "version": 3
   },
   "file_extension": ".py",
   "mimetype": "text/x-python",
   "name": "python",
   "nbconvert_exporter": "python",
   "pygments_lexer": "ipython3",
   "version": "3.11.3"
  }
 },
 "nbformat": 4,
 "nbformat_minor": 2
}
